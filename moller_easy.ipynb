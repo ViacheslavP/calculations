{
 "cells": [
  {
   "cell_type": "markdown",
   "metadata": {},
   "source": [
    "### M\\oller for simplified model"
   ]
  },
  {
   "cell_type": "code",
   "execution_count": 1,
   "metadata": {},
   "outputs": [],
   "source": [
    "import sys, os\n",
    "sys.path.insert(0, 'core/')\n",
    "import numpy as np\n",
    "from matplotlib import pyplot as plt\n",
    "from wave_pack import convolution, delay\n",
    "from wave_pack import inverse_pulse as pulse\n",
    "from wave_pack import efficiency\n",
    "\n",
    "def get_resolventa(noa, omega, hg, ddRight):\n",
    "    res_inv = np.eye(noa)*(omega + 0.25j)  #0.25j * (np.ones((noa,noa)))\n",
    "    ddr2 = np.zeros_like(ddRight)\n",
    "    k=0\n",
    "    for i in range(noa):\n",
    "        for j in range(noa):\n",
    "            if i==j:\n",
    "                continue\n",
    "            res_inv[i,j] = 0.25j * np.exp(1j*np.pi*(abs(i-j)+hg*omega*abs(i-j)))\n",
    "            \n",
    "        \n",
    "        if ddRight[i] == 1:\n",
    "            k+=1\n",
    "            ddr2[i] = np.exp(-1j*np.pi*(k+0*hg*omega*k))\n",
    "            \n",
    "    \n",
    "    return np.linalg.solve(res_inv, ddr2)\n",
    "\n",
    "def normplot(x,y,*args,**kwargs):\n",
    "    plt.plot(x, y/y.max()/0.8, *args, **kwargs)"
   ]
  },
  {
   "cell_type": "code",
   "execution_count": 2,
   "metadata": {},
   "outputs": [],
   "source": [
    "nof = 1200\n",
    "noa = 100\n",
    "ddRight = np.zeros(noa, dtype=np.complex)\n",
    "AtomicDecay = np.zeros((noa, nof), dtype=np.complex)\n",
    "freq = np.linspace(-2400, 2400, nof)\n",
    "hgg = 1/1000\n",
    "\n",
    "for i in range(noa):\n",
    "    if i >= noa//5 and i < noa - noa//5:\n",
    "        ddRight[i] = 1.\n",
    "    else:\n",
    "        ddRight[i] = 0.\n",
    "\n",
    "for i,om in enumerate(freq):\n",
    "        AtomicDecay[:, i] = get_resolventa(noa, om, hgg, ddRight)\n",
    "\n",
    "smD = np.zeros_like(AtomicDecay)\n",
    "for i in range(noa):\n",
    "    t, smD[i, :] = convolution(freq, AtomicDecay[i, :], np.ones_like(freq))\n",
    "    \n",
    "sidemDecay4 = np.real(np.dot(np.conj(np.transpose(smD)), smD).diagonal())\n",
    "\n",
    "natoms = range(1,noa+1)\n",
    "\n",
    "fstatei = abs(smD[:, nof//2])\n",
    "fstatef = abs(smD[:, -1])\n",
    "\n",
    "smD = np.zeros_like(AtomicDecay)\n",
    "for i in range(noa):\n",
    "    if i>=noa//3 and i < noa - noa//3:\n",
    "        t, smD[i, :] = convolution(freq, AtomicDecay[i, :], np.ones_like(freq))\n",
    "\n",
    "sidemDecay5 = np.real(np.dot(np.conj(np.transpose(smD)), smD).diagonal())\n",
    "\n",
    "\n"
   ]
  },
  {
   "cell_type": "code",
   "execution_count": 3,
   "metadata": {},
   "outputs": [],
   "source": [
    "nof = 1200\n",
    "noa = 34\n",
    "ddRight = np.zeros(noa, dtype=np.complex)\n",
    "AtomicDecay = np.zeros((noa, nof), dtype=np.complex)\n",
    "freq = np.linspace(-2400, 2400, nof)\n",
    "\n",
    "for i in range(noa):\n",
    "    if i >= noa//3 and i < noa - noa//3:\n",
    "        ddRight[i] = 1.\n",
    "    else:\n",
    "        ddRight[i] = 1.\n",
    "for i,om in enumerate(freq):\n",
    "        AtomicDecay[:, i] = get_resolventa(noa, om, hgg, ddRight)\n",
    "\n",
    "smD = np.zeros_like(AtomicDecay)\n",
    "for i in range(noa):\n",
    "    t, smD[i, :] = convolution(freq, AtomicDecay[i, :], np.ones_like(freq))\n",
    "    \n",
    "sidemDecay2 = np.real(np.dot(np.conj(np.transpose(smD)), smD).diagonal())\n"
   ]
  },
  {
   "cell_type": "code",
   "execution_count": 4,
   "metadata": {},
   "outputs": [
    {
     "ename": "NameError",
     "evalue": "name 'sidemDecay1' is not defined",
     "traceback": [
      "\u001b[0;31m---------------------------------------------------------------------------\u001b[0m",
      "\u001b[0;31mNameError\u001b[0m                                 Traceback (most recent call last)",
      "\u001b[0;32m<ipython-input-4-c28ad09a0855>\u001b[0m in \u001b[0;36m<module>\u001b[0;34m\u001b[0m\n\u001b[0;32m----> 1\u001b[0;31m \u001b[0mplt\u001b[0m\u001b[0;34m.\u001b[0m\u001b[0mplot\u001b[0m\u001b[0;34m(\u001b[0m\u001b[0mt\u001b[0m\u001b[0;34m,\u001b[0m \u001b[0msidemDecay1\u001b[0m\u001b[0;34m/\u001b[0m\u001b[0msidemDecay1\u001b[0m\u001b[0;34m.\u001b[0m\u001b[0mmax\u001b[0m\u001b[0;34m(\u001b[0m\u001b[0;34m)\u001b[0m\u001b[0;34m)\u001b[0m\u001b[0;34m\u001b[0m\u001b[0;34m\u001b[0m\u001b[0m\n\u001b[0m\u001b[1;32m      2\u001b[0m \u001b[0mplt\u001b[0m\u001b[0;34m.\u001b[0m\u001b[0mplot\u001b[0m\u001b[0;34m(\u001b[0m\u001b[0mt\u001b[0m\u001b[0;34m,\u001b[0m \u001b[0msidemDecay2\u001b[0m\u001b[0;34m/\u001b[0m\u001b[0msidemDecay2\u001b[0m\u001b[0;34m.\u001b[0m\u001b[0mmax\u001b[0m\u001b[0;34m(\u001b[0m\u001b[0;34m)\u001b[0m\u001b[0;34m)\u001b[0m\u001b[0;34m\u001b[0m\u001b[0;34m\u001b[0m\u001b[0m\n\u001b[1;32m      3\u001b[0m \u001b[0mplt\u001b[0m\u001b[0;34m.\u001b[0m\u001b[0mplot\u001b[0m\u001b[0;34m(\u001b[0m\u001b[0mt\u001b[0m\u001b[0;34m,\u001b[0m \u001b[0msidemDecay3\u001b[0m\u001b[0;34m/\u001b[0m\u001b[0msidemDecay3\u001b[0m\u001b[0;34m.\u001b[0m\u001b[0mmax\u001b[0m\u001b[0;34m(\u001b[0m\u001b[0;34m)\u001b[0m\u001b[0;34m)\u001b[0m\u001b[0;34m\u001b[0m\u001b[0;34m\u001b[0m\u001b[0m\n\u001b[1;32m      4\u001b[0m \u001b[0mplt\u001b[0m\u001b[0;34m.\u001b[0m\u001b[0mplot\u001b[0m\u001b[0;34m(\u001b[0m\u001b[0mt\u001b[0m\u001b[0;34m,\u001b[0m \u001b[0msidemDecay4\u001b[0m\u001b[0;34m/\u001b[0m\u001b[0msidemDecay4\u001b[0m\u001b[0;34m.\u001b[0m\u001b[0mmax\u001b[0m\u001b[0;34m(\u001b[0m\u001b[0;34m)\u001b[0m\u001b[0;34m)\u001b[0m\u001b[0;34m\u001b[0m\u001b[0;34m\u001b[0m\u001b[0m\n\u001b[1;32m      5\u001b[0m \u001b[0mplt\u001b[0m\u001b[0;34m.\u001b[0m\u001b[0mplot\u001b[0m\u001b[0;34m(\u001b[0m\u001b[0mt\u001b[0m\u001b[0;34m,\u001b[0m \u001b[0msidemDecay5\u001b[0m\u001b[0;34m/\u001b[0m\u001b[0msidemDecay5\u001b[0m\u001b[0;34m.\u001b[0m\u001b[0mmax\u001b[0m\u001b[0;34m(\u001b[0m\u001b[0;34m)\u001b[0m\u001b[0;34m)\u001b[0m\u001b[0;34m\u001b[0m\u001b[0;34m\u001b[0m\u001b[0m\n",
      "\u001b[0;31mNameError\u001b[0m: name 'sidemDecay1' is not defined"
     ],
     "output_type": "error"
    }
   ],
   "source": [
    "#plt.plot(t, sidemDecay1/sidemDecay1.max())\n",
    "plt.plot(t, sidemDecay2/sidemDecay2.max())\n",
    "#plt.plot(t, sidemDecay3/sidemDecay3.max())\n",
    "plt.plot(t, sidemDecay4/sidemDecay4.max())\n",
    "#plt.plot(t, sidemDecay5/sidemDecay5.max())\n",
    "\n",
    "#plt.plot(t, sidemDecay3/sidemDecay3.max()/0.79)\n",
    "#plt.yscale('log')\n",
    "plt.xlim(0,t.max())\n",
    "plt.xlim(0,0.9)\n",
    "#plt.ylim(0.01, 1)\n",
    "plt.show()"
   ]
  },
  {
   "cell_type": "code",
   "execution_count": null,
   "metadata": {
    "scrolled": true
   },
   "outputs": [],
   "source": [
    "plt.plot(natoms, fstatei, 'go')\n",
    "plt.plot(natoms, fstatef, 'bo')\n",
    "#plt.plot(natoms, abs(ddRight), 'ro')\n",
    "plt.show()"
   ]
  },
  {
   "cell_type": "code",
   "execution_count": 147,
   "metadata": {},
   "outputs": [
    {
     "data": {
      "text/plain": [
       "[<matplotlib.lines.Line2D at 0x7f621c7d0710>]"
      ]
     },
     "execution_count": 147,
     "metadata": {},
     "output_type": "execute_result"
    },
    {
     "data": {
      "image/png": "[encoded data removed]",
      "text/plain": [
       "<Figure size 432x288 with 1 Axes>"
      ]
     },
     "metadata": {
      "needs_background": "light"
     },
     "output_type": "display_data"
    }
   ],
   "source": [
    "plt.plot(t)"
   ]
  },
  {
   "cell_type": "code",
   "execution_count": 100,
   "metadata": {},
   "outputs": [
    {
     "name": "stdout",
     "output_type": "stream",
     "text": [
      "[ 1.        +0.j         -0.9971589 -0.07532681j  0.98865174+0.15022559j\n",
      " -0.97452687-0.22427076j  0.95486454+0.29704158j -0.92977649-0.36812455j\n",
      "  0.89940525+0.43711577j -0.86392342-0.5036232j   0.8235326 +0.56726895j\n",
      " -0.7784623 -0.62769136j  0.72896863+0.68454711j -0.67533281-0.73751312j\n",
      "  0.61785961+0.78628843j -0.55687562-0.8305959j   0.49272734+0.87018375j\n",
      " -0.42577929-0.90482705j  0.35641188+0.93432894j -0.28501926-0.95852179j\n",
      "  0.21200711+0.97726812j -0.13779029-0.99046143j  0.06279052+0.99802673j\n",
      "  0.01256604-0.99992104j -0.0878512 +0.99613361j  0.16263717-0.98668594j\n",
      " -0.236499  +0.97163173j  0.30901699-0.95105652j -0.3797791 +0.92507721j\n",
      "  0.44838322-0.89384142j -0.51443953+0.85752666j  0.5775727 -0.81633925j\n",
      " -0.63742399+0.77051324j  0.69365331-0.72030902j -0.74594115+0.66601187j\n",
      "  0.7939904 -0.6079303j ]\n"
     ]
    }
   ],
   "source": [
    "print(ddRight)"
   ]
  },
  {
   "cell_type": "code",
   "execution_count": null,
   "metadata": {},
   "outputs": [],
   "source": []
  }
 ],
 "metadata": {
  "kernelspec": {
   "display_name": "Python 3",
   "language": "python",
   "name": "python3"
  },
  "language_info": {
   "codemirror_mode": {
    "name": "ipython",
    "version": 3
   },
   "file_extension": ".py",
   "mimetype": "text/x-python",
   "name": "python",
   "nbconvert_exporter": "python",
   "pygments_lexer": "ipython3",
   "version": "3.6.8"
  }
 },
 "nbformat": 4,
 "nbformat_minor": 2
}
