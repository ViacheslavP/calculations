{
 "cells": [
  {
   "cell_type": "code",
   "execution_count": 1,
   "metadata": {},
   "outputs": [
    {
     "name": "stdout",
     "output_type": "stream",
     "text": [
      "MKL does not installed. MKL dramatically improves calculation time\n"
     ]
    }
   ],
   "source": [
    "%matplotlib inline\n",
    "from one_D_scattering import ensemble\n",
    "from matplotlib import pyplot as plt\n",
    "import numpy as np"
   ]
  },
  {
   "cell_type": "code",
   "execution_count": 12,
   "metadata": {
    "scrolled": true
   },
   "outputs": [
    {
     "name": "stdout",
     "output_type": "stream",
     "text": [
      "1.0951842440279331\n",
      "1.0\n",
      "1.0951842440279331\n",
      "1.0\n",
      "0.0169378137855\n"
     ]
    },
    {
     "name": "stderr",
     "output_type": "stream",
     "text": [
      "/home/pviacheslav/.intel/intelpython3/lib/python3.5/site-packages/scipy/integrate/quadpack.py:356: IntegrationWarning: The maximum number of subdivisions (50) has been achieved.\n",
      "  If increasing the limit yields no improvement it is advised to analyze \n",
      "  the integrand in order to determine the difficulties.  If the position of a \n",
      "  local difficulty can be determined (singularity, discontinuity) one will \n",
      "  probably gain from splitting up the interval and calling the integrator \n",
      "  on the subranges.  Perhaps a special-purpose integrator should be used.\n",
      "  warnings.warn(msg, IntegrationWarning)\n",
      "/home/pviacheslav/.intel/intelpython3/lib/python3.5/site-packages/scipy/integrate/quadpack.py:356: IntegrationWarning: The integral is probably divergent, or slowly convergent.\n",
      "  warnings.warn(msg, IntegrationWarning)\n"
     ]
    },
    {
     "name": "stdout",
     "output_type": "stream",
     "text": [
      "1.0874238891 Only\n",
      "YAY\n",
      "0.0\n",
      "YAY\n",
      "2.87142027781\n",
      "YAY\n",
      "5.74284055563\n",
      "YAY\n",
      "8.61426083344\n",
      "YAY\n",
      "11.4856811113\n",
      "YAY\n",
      "2.87142027781\n",
      "YAY\n",
      "0.0\n",
      "YAY\n",
      "2.87142027781\n",
      "YAY\n",
      "5.74284055563\n",
      "YAY\n",
      "8.61426083344\n",
      "YAY\n",
      "5.74284055563\n",
      "YAY\n",
      "2.87142027781\n",
      "YAY\n",
      "0.0\n",
      "YAY\n",
      "2.87142027781\n",
      "YAY\n",
      "5.74284055563\n",
      "YAY\n",
      "8.61426083344\n",
      "YAY\n",
      "5.74284055563\n",
      "YAY\n",
      "2.87142027781\n",
      "YAY\n",
      "0.0\n",
      "YAY\n",
      "2.87142027781\n",
      "YAY\n",
      "11.4856811113\n",
      "YAY\n",
      "8.61426083344\n",
      "YAY\n",
      "5.74284055563\n",
      "YAY\n",
      "2.87142027781\n",
      "YAY\n",
      "0.0\n",
      "[[ 1.  1.  1.  1.  1.]\n",
      " [ 1.  1.  1.  1.  1.]\n",
      " [ 1.  1.  1.  1.  1.]\n",
      " [ 1.  1.  1.  1.  1.]\n",
      " [ 1.  1.  1.  1.  1.]]\n",
      "99%\n",
      "\n",
      "Current ensemble calculation time is  2.723191738128662 s\n",
      "1.0951842440279331\n",
      "1.0\n",
      "1.0951842440279331\n",
      "1.0\n",
      "0.0169378137855\n",
      "1.0874238891 Only\n",
      "YAY\n",
      "0.0\n",
      "YAY\n",
      "2.87142027781\n",
      "YAY\n",
      "5.74284055563\n",
      "YAY\n",
      "8.61426083344\n",
      "YAY\n",
      "11.4856811113\n",
      "YAY\n",
      "2.87142027781\n",
      "YAY\n",
      "0.0\n",
      "YAY\n",
      "2.87142027781\n",
      "YAY\n",
      "5.74284055563\n",
      "YAY\n",
      "8.61426083344\n",
      "YAY\n",
      "5.74284055563\n",
      "YAY\n",
      "2.87142027781\n",
      "YAY\n",
      "0.0\n",
      "YAY\n",
      "2.87142027781\n",
      "YAY\n",
      "5.74284055563\n",
      "YAY\n",
      "8.61426083344\n",
      "YAY\n",
      "5.74284055563\n",
      "YAY\n",
      "2.87142027781\n",
      "YAY\n",
      "0.0\n",
      "YAY\n",
      "2.87142027781\n",
      "YAY\n",
      "11.4856811113\n",
      "YAY\n",
      "8.61426083344\n",
      "YAY\n",
      "5.74284055563\n",
      "YAY\n",
      "2.87142027781\n",
      "YAY\n",
      "0.0\n",
      "[[ 1.  1.  0.  0.  0.]\n",
      " [ 1.  1.  1.  0.  0.]\n",
      " [ 0.  1.  1.  1.  0.]\n",
      " [ 0.  0.  1.  1.  1.]\n",
      " [ 0.  0.  0.  1.  1.]]\n",
      "99%\n",
      "\n",
      "Current ensemble calculation time is  2.732095241546631 s\n"
     ]
    }
   ],
   "source": [
    "freq = np.linspace(-2,2,100)\n",
    "args = {\n",
    "        \n",
    "            'nat':5, #number of atoms\n",
    "            'nb':4, #number of neighbours in raman chanel (for L-atom only)\n",
    "            's':'chain', #Stands for atom positioning : chain, nocorrchain and doublechain\n",
    "            'dist':0.,  # sigma for displacement (choose 'chain' for gauss displacement.)\n",
    "            'd' : 1.5, # distance from fiber\n",
    "            'l0': 1.001, # mean distance between atoms (in lambda_m /2 units)\n",
    "            'deltaP':freq,  # array of freq.\n",
    "            'typ':'L',  # L or V for Lambda and V atom resp.\n",
    "            'ff': 0.3\n",
    "            \n",
    "        }\n",
    "\n",
    "    \n",
    "\n",
    "new = ensemble(**args)\n",
    "new.L = 2*np.pi*100\n",
    "new.generate_ensemble()\n",
    "old = ensemble(**args)\n",
    "old.L = np.pi\n",
    "old.generate_ensemble()"
   ]
  },
  {
   "cell_type": "code",
   "execution_count": 13,
   "metadata": {
    "scrolled": false
   },
   "outputs": [
    {
     "data": {
      "image/png": "[encoded data removed]",
      "text/plain": [
       "<matplotlib.figure.Figure at 0x7fbde90b7390>"
      ]
     },
     "metadata": {},
     "output_type": "display_data"
    }
   ],
   "source": [
    "plt.figure(0,figsize=(12,10))\n",
    "plt.subplot(211)\n",
    "plt.plot(freq,new.fullReflection - old.fullReflection)\n",
    "plt.ylabel(r'$R_{{new}}-R_{{old}}$')\n",
    "plt.subplot(212)\n",
    "plt.plot(freq, new.fullTransmittance - old.fullTransmittance)\n",
    "plt.xlabel(r'$\\Delta \\omega, \\gamma$')\n",
    "plt.ylabel(r'$T_{{new}}-T_{{old}}$')\n",
    "plt.savefig('diffminusnodiff.svg')"
   ]
  },
  {
   "cell_type": "code",
   "execution_count": null,
   "metadata": {
    "collapsed": true
   },
   "outputs": [],
   "source": []
  }
 ],
 "metadata": {
  "kernelspec": {
   "display_name": "Python 3",
   "language": "python",
   "name": "python3"
  },
  "language_info": {
   "codemirror_mode": {
    "name": "ipython",
    "version": 3
   },
   "file_extension": ".py",
   "mimetype": "text/x-python",
   "name": "python",
   "nbconvert_exporter": "python",
   "pygments_lexer": "ipython3",
   "version": "3.5.3"
  }
 },
 "nbformat": 4,
 "nbformat_minor": 1
}
